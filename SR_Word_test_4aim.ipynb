{
 "cells": [
  {
   "cell_type": "markdown",
   "metadata": {},
   "source": [
    "## Install librosa"
   ]
  },
  {
   "cell_type": "code",
   "execution_count": 2,
   "metadata": {},
   "outputs": [
    {
     "name": "stdout",
     "output_type": "stream",
     "text": [
      "Requirement already satisfied: librosa in c:\\users\\corey chang\\anaconda3\\lib\\site-packages (0.6.3)\n",
      "Requirement already satisfied: numpy>=1.8.0 in c:\\users\\corey chang\\anaconda3\\lib\\site-packages (from librosa) (1.14.3)\n",
      "Requirement already satisfied: resampy>=0.2.0 in c:\\users\\corey chang\\anaconda3\\lib\\site-packages (from librosa) (0.2.1)\n",
      "Requirement already satisfied: six>=1.3 in c:\\users\\corey chang\\anaconda3\\lib\\site-packages (from librosa) (1.11.0)\n",
      "Requirement already satisfied: scipy>=1.0.0 in c:\\users\\corey chang\\anaconda3\\lib\\site-packages (from librosa) (1.1.0)\n",
      "Requirement already satisfied: numba>=0.38.0 in c:\\users\\corey chang\\anaconda3\\lib\\site-packages (from librosa) (0.38.0)\n",
      "Requirement already satisfied: audioread>=2.0.0 in c:\\users\\corey chang\\anaconda3\\lib\\site-packages (from librosa) (2.1.6)\n",
      "Requirement already satisfied: decorator>=3.0.0 in c:\\users\\corey chang\\anaconda3\\lib\\site-packages (from librosa) (4.3.0)\n",
      "Requirement already satisfied: joblib>=0.12 in c:\\users\\corey chang\\anaconda3\\lib\\site-packages (from librosa) (0.13.2)\n",
      "Requirement already satisfied: scikit-learn!=0.19.0,>=0.14.0 in c:\\users\\corey chang\\anaconda3\\lib\\site-packages (from librosa) (0.19.1)\n",
      "Requirement already satisfied: llvmlite>=0.23.0dev0 in c:\\users\\corey chang\\anaconda3\\lib\\site-packages (from numba>=0.38.0->librosa) (0.23.1)\n"
     ]
    },
    {
     "name": "stderr",
     "output_type": "stream",
     "text": [
      "distributed 1.21.8 requires msgpack, which is not installed.\n",
      "You are using pip version 10.0.1, however version 19.0.3 is available.\n",
      "You should consider upgrading via the 'python -m pip install --upgrade pip' command.\n"
     ]
    }
   ],
   "source": [
    "! pip install librosa"
   ]
  },
  {
   "cell_type": "markdown",
   "metadata": {},
   "source": [
    "---"
   ]
  },
  {
   "cell_type": "markdown",
   "metadata": {},
   "source": [
    "## .wav Data to MFCC\n",
    " **DATA_PATH = \"./words/\"**"
   ]
  },
  {
   "cell_type": "code",
   "execution_count": 1,
   "metadata": {},
   "outputs": [
    {
     "name": "stderr",
     "output_type": "stream",
     "text": [
      "Using TensorFlow backend.\n"
     ]
    }
   ],
   "source": [
    "import librosa\n",
    "import os\n",
    "from sklearn.model_selection import train_test_split\n",
    "from keras.utils import to_categorical\n",
    "import numpy as np\n",
    "from tqdm import tqdm\n",
    "\n",
    "DATA_PATH = \"./words/\""
   ]
  },
  {
   "cell_type": "code",
   "execution_count": 2,
   "metadata": {},
   "outputs": [],
   "source": [
    "# Input: Folder Path\n",
    "# Output: Tuple (Label, Indices of the labels, one-hot encoded labels)\n",
    "def get_labels(path=DATA_PATH):\n",
    "    labels = os.listdir(path)\n",
    "    label_indices = np.arange(0, len(labels))\n",
    "    return labels, label_indices, to_categorical(label_indices)"
   ]
  },
  {
   "cell_type": "code",
   "execution_count": 3,
   "metadata": {},
   "outputs": [],
   "source": [
    "# Handy function to convert wav2mfcc\n",
    "def wav2mfcc(file_path, max_len=11):\n",
    "    wave, sr = librosa.load(file_path, mono=True, sr=None)\n",
    "    wave = wave[::3]\n",
    "    mfcc = librosa.feature.mfcc(wave, sr=16000)\n",
    "\n",
    "    # If maximum length exceeds mfcc lengths then pad the remaining ones\n",
    "    if (max_len > mfcc.shape[1]):\n",
    "        pad_width = max_len - mfcc.shape[1]\n",
    "        mfcc = np.pad(mfcc, pad_width=((0, 0), (0, pad_width)), mode='constant')  # pad into same length\n",
    "\n",
    "    # Else cutoff the remaining parts\n",
    "    else:\n",
    "        mfcc = mfcc[:, :max_len]\n",
    "    \n",
    "    return mfcc"
   ]
  },
  {
   "cell_type": "code",
   "execution_count": 4,
   "metadata": {},
   "outputs": [],
   "source": [
    "# 從目錄夾讀取所有音檔，並將向量根據類別名稱存成 .npy 檔\n",
    "def save_data_to_array(path=DATA_PATH, max_len=11):\n",
    "    labels, _, _ = get_labels(path)\n",
    "\n",
    "    for label in labels:\n",
    "        # Init mfcc vectors\n",
    "        mfcc_vectors = []\n",
    "\n",
    "        wavfiles = [path + label + '/' + wavfile for wavfile in os.listdir(path + '/' + label)]\n",
    "        for wavfile in tqdm(wavfiles, \"Saving vectors of label - '{}'\".format(label)):\n",
    "            mfcc = wav2mfcc(wavfile, max_len=max_len)\n",
    "            mfcc_vectors.append(mfcc)\n",
    "        np.save(\"./recognize/\" + label + '.npy', mfcc_vectors)"
   ]
  },
  {
   "cell_type": "markdown",
   "metadata": {},
   "source": [
    "## Save .npy in \"./recognize/..\""
   ]
  },
  {
   "cell_type": "code",
   "execution_count": 5,
   "metadata": {},
   "outputs": [],
   "source": [
    "def get_train_test(split_ratio=0.6, random_state=42):\n",
    "    # Get available labels\n",
    "    labels, indices, _ = get_labels(DATA_PATH)\n",
    "    print(labels)\n",
    "    # Getting first arrays\n",
    "    X = np.load(DATA_PATH + labels[0] )\n",
    "    y = np.zeros(X.shape[0])\n",
    "\n",
    "    # Append all of the dataset into one single array, same goes for y\n",
    "    for i, label in enumerate(labels[1:]):\n",
    "        x = np.load(DATA_PATH + label )\n",
    "        X = np.vstack((X, x))\n",
    "        y = np.append(y, np.full(x.shape[0], fill_value= (i + 1)))\n",
    "\n",
    "    assert X.shape[0] == len(y)\n",
    "\n",
    "    return train_test_split(X, y, test_size= (1 - split_ratio), random_state=random_state, shuffle=True)"
   ]
  },
  {
   "cell_type": "markdown",
   "metadata": {},
   "source": [
    "---"
   ]
  },
  {
   "cell_type": "markdown",
   "metadata": {},
   "source": [
    "## keras part"
   ]
  },
  {
   "cell_type": "code",
   "execution_count": 6,
   "metadata": {},
   "outputs": [
    {
     "name": "stderr",
     "output_type": "stream",
     "text": [
      "Saving vectors of label - 'one': 100%|████████████████████████████████████████████| 3888/3888 [00:18<00:00, 212.67it/s]\n",
      "Saving vectors of label - 'three': 100%|██████████████████████████████████████████| 3725/3725 [00:19<00:00, 189.43it/s]\n",
      "Saving vectors of label - 'two': 100%|████████████████████████████████████████████| 3878/3878 [00:17<00:00, 216.11it/s]\n",
      "Saving vectors of label - 'zero': 100%|███████████████████████████████████████████| 4050/4050 [00:18<00:00, 219.21it/s]\n"
     ]
    }
   ],
   "source": [
    "import keras\n",
    "from keras.models import Sequential\n",
    "from keras.layers import Dense, Dropout, Flatten, Conv2D, MaxPooling2D\n",
    "from keras.utils import to_categorical\n",
    "# With Tensorboard\n",
    "from keras.callbacks import TensorBoard\n",
    "\n",
    "# Second dimension of the feature is dim2\n",
    "feature_dim_2 = 11\n",
    "\n",
    "# Save data to array file first\n",
    "save_data_to_array(max_len=feature_dim_2)\n"
   ]
  },
  {
   "cell_type": "code",
   "execution_count": 7,
   "metadata": {},
   "outputs": [
    {
     "name": "stdout",
     "output_type": "stream",
     "text": [
      "['one.npy', 'three.npy', 'two.npy', 'zero.npy']\n"
     ]
    }
   ],
   "source": [
    "DATA_PATH = \"./recognize/\"\n",
    "\n",
    "# Loading train set and test set\n",
    "X_train, X_test, y_train, y_test = get_train_test()"
   ]
  },
  {
   "cell_type": "code",
   "execution_count": 8,
   "metadata": {},
   "outputs": [
    {
     "data": {
      "text/plain": [
       "(9324, 20, 11)"
      ]
     },
     "execution_count": 8,
     "metadata": {},
     "output_type": "execute_result"
    }
   ],
   "source": [
    "X_train.shape"
   ]
  },
  {
   "cell_type": "code",
   "execution_count": 9,
   "metadata": {},
   "outputs": [],
   "source": [
    "# # Feature dimension\n",
    "feature_dim_1 = 20\n",
    "channel = 1\n",
    "epochs = 15 #3_20 18 / 2_15 14\n",
    "batch_size = 100\n",
    "num_classes = 4\n",
    "\n",
    "# Reshaping to perform 2D convolution\n",
    "X_train = X_train.reshape(X_train.shape[0], feature_dim_1, feature_dim_2, channel)\n",
    "X_test = X_test.reshape(X_test.shape[0], feature_dim_1, feature_dim_2, channel)\n",
    "\n",
    "y_train_hot = to_categorical(y_train)\n",
    "y_test_hot = to_categorical(y_test)"
   ]
  },
  {
   "cell_type": "code",
   "execution_count": 10,
   "metadata": {},
   "outputs": [],
   "source": [
    "model = Sequential()\n",
    "\n",
    "# convolution, max pooling \n",
    "model.add(Conv2D(16, kernel_size=(3, 3), padding='same', activation='relu', input_shape=(feature_dim_1, feature_dim_2, channel)))\n",
    "model.add(MaxPooling2D(pool_size=(2, 2)))\n",
    "\n",
    "model.add(Conv2D(96, kernel_size=(3, 3), padding='same', activation='relu'))\n",
    "model.add(MaxPooling2D(pool_size=(2, 2)))\n",
    "model.add(Dropout(0.25))\n",
    "\n",
    "\n",
    "# flattening\n",
    "model.add(Flatten())\n",
    "\n",
    "\n",
    "# fully connected\n",
    "model.add(Dense(128, activation='relu'))\n",
    "model.add(Dropout(0.45))\n",
    "#model.add(Dense(64, activation='relu'))\n",
    "#model.add(Dropout(0.4))\n",
    "model.add(Dense(64, activation='relu'))\n",
    "model.add(Dropout(0.35))\n",
    "model.add(Dense(32, activation='relu'))\n",
    "model.add(Dropout(0.25))\n",
    "model.add(Dense(num_classes, activation='softmax'))"
   ]
  },
  {
   "cell_type": "code",
   "execution_count": 11,
   "metadata": {},
   "outputs": [],
   "source": [
    "model.compile(loss='categorical_crossentropy',\n",
    "            optimizer='Adam',\n",
    "            metrics=['accuracy'])"
   ]
  },
  {
   "cell_type": "code",
   "execution_count": 12,
   "metadata": {},
   "outputs": [],
   "source": [
    "# TensorBoard\n",
    "tbRecord = TensorBoard(log_dir='./logs', \n",
    "                       histogram_freq=0, \n",
    "                       batch_size=batch_size, \n",
    "                       write_graph=True, \n",
    "                       write_grads=True, \n",
    "                       write_images=True, \n",
    "                       embeddings_freq=0, \n",
    "                       embeddings_layer_names=None, \n",
    "                       embeddings_metadata=None, \n",
    "                       embeddings_data=None, \n",
    "                       update_freq='epoch')\n",
    "\n",
    "# ref. https://keras.io/callbacks/"
   ]
  },
  {
   "cell_type": "markdown",
   "metadata": {},
   "source": [
    "__Open Anaconda-Prompt__  \n",
    "__cd to log_dir & check out which log you will show:　tensorboard --logdir ./logs__  \n",
    "\n",
    "__Show in: http://localhost:6006__"
   ]
  },
  {
   "cell_type": "code",
   "execution_count": 13,
   "metadata": {
    "scrolled": true
   },
   "outputs": [
    {
     "name": "stdout",
     "output_type": "stream",
     "text": [
      "Train on 9324 samples, validate on 6217 samples\n",
      "Epoch 1/15\n",
      "9324/9324 [==============================] - ETA: 22s - loss: 10.6701 - acc: 0.260 - ETA: 9s - loss: 8.9742 - acc: 0.2933  - ETA: 5s - loss: 8.4138 - acc: 0.253 - ETA: 4s - loss: 7.7643 - acc: 0.248 - ETA: 3s - loss: 6.8281 - acc: 0.254 - ETA: 3s - loss: 6.1983 - acc: 0.253 - ETA: 3s - loss: 5.7664 - acc: 0.256 - ETA: 2s - loss: 5.2386 - acc: 0.260 - ETA: 2s - loss: 4.7973 - acc: 0.257 - ETA: 2s - loss: 4.4268 - acc: 0.262 - ETA: 2s - loss: 4.1260 - acc: 0.261 - ETA: 1s - loss: 3.8729 - acc: 0.261 - ETA: 1s - loss: 3.6645 - acc: 0.260 - ETA: 1s - loss: 3.4860 - acc: 0.260 - ETA: 1s - loss: 3.3373 - acc: 0.261 - ETA: 1s - loss: 3.2012 - acc: 0.266 - ETA: 1s - loss: 3.0838 - acc: 0.268 - ETA: 1s - loss: 2.9810 - acc: 0.269 - ETA: 1s - loss: 2.8907 - acc: 0.272 - ETA: 1s - loss: 2.8361 - acc: 0.273 - ETA: 0s - loss: 2.7603 - acc: 0.275 - ETA: 0s - loss: 2.7140 - acc: 0.276 - ETA: 0s - loss: 2.6514 - acc: 0.274 - ETA: 0s - loss: 2.6123 - acc: 0.275 - ETA: 0s - loss: 2.5557 - acc: 0.277 - ETA: 0s - loss: 2.5049 - acc: 0.277 - ETA: 0s - loss: 2.4571 - acc: 0.278 - ETA: 0s - loss: 2.4280 - acc: 0.278 - ETA: 0s - loss: 2.3854 - acc: 0.280 - ETA: 0s - loss: 2.3464 - acc: 0.283 - ETA: 0s - loss: 2.3225 - acc: 0.284 - ETA: 0s - loss: 2.2878 - acc: 0.285 - ETA: 0s - loss: 2.2558 - acc: 0.287 - ETA: 0s - loss: 2.2270 - acc: 0.287 - 3s 300us/step - loss: 2.2147 - acc: 0.2893 - val_loss: 1.2455 - val_acc: 0.4877\n",
      "Epoch 2/15\n",
      "9324/9324 [==============================] - ETA: 2s - loss: 1.2732 - acc: 0.350 - ETA: 2s - loss: 1.2969 - acc: 0.352 - ETA: 1s - loss: 1.2978 - acc: 0.357 - ETA: 1s - loss: 1.2737 - acc: 0.375 - ETA: 1s - loss: 1.2744 - acc: 0.364 - ETA: 1s - loss: 1.2718 - acc: 0.364 - ETA: 1s - loss: 1.2731 - acc: 0.367 - ETA: 1s - loss: 1.2758 - acc: 0.366 - ETA: 1s - loss: 1.2736 - acc: 0.367 - ETA: 1s - loss: 1.2637 - acc: 0.373 - ETA: 1s - loss: 1.2667 - acc: 0.375 - ETA: 1s - loss: 1.2592 - acc: 0.379 - ETA: 1s - loss: 1.2543 - acc: 0.381 - ETA: 1s - loss: 1.2494 - acc: 0.386 - ETA: 1s - loss: 1.2500 - acc: 0.386 - ETA: 1s - loss: 1.2433 - acc: 0.389 - ETA: 1s - loss: 1.2402 - acc: 0.387 - ETA: 0s - loss: 1.2345 - acc: 0.391 - ETA: 0s - loss: 1.2260 - acc: 0.400 - ETA: 0s - loss: 1.2230 - acc: 0.401 - ETA: 0s - loss: 1.2189 - acc: 0.404 - ETA: 0s - loss: 1.2158 - acc: 0.405 - ETA: 0s - loss: 1.2131 - acc: 0.406 - ETA: 0s - loss: 1.2093 - acc: 0.408 - ETA: 0s - loss: 1.2050 - acc: 0.409 - ETA: 0s - loss: 1.2047 - acc: 0.410 - ETA: 0s - loss: 1.1985 - acc: 0.413 - ETA: 0s - loss: 1.1940 - acc: 0.416 - ETA: 0s - loss: 1.1946 - acc: 0.416 - ETA: 0s - loss: 1.1888 - acc: 0.420 - ETA: 0s - loss: 1.1862 - acc: 0.421 - ETA: 0s - loss: 1.1845 - acc: 0.422 - 2s 265us/step - loss: 1.1825 - acc: 0.4235 - val_loss: 0.9707 - val_acc: 0.6050\n",
      "Epoch 3/15\n",
      "9324/9324 [==============================] - ETA: 2s - loss: 1.0328 - acc: 0.530 - ETA: 2s - loss: 1.0965 - acc: 0.502 - ETA: 1s - loss: 1.0817 - acc: 0.501 - ETA: 1s - loss: 1.0903 - acc: 0.486 - ETA: 1s - loss: 1.0714 - acc: 0.496 - ETA: 1s - loss: 1.0641 - acc: 0.496 - ETA: 1s - loss: 1.0586 - acc: 0.496 - ETA: 1s - loss: 1.0578 - acc: 0.495 - ETA: 1s - loss: 1.0455 - acc: 0.500 - ETA: 1s - loss: 1.0433 - acc: 0.503 - ETA: 1s - loss: 1.0463 - acc: 0.502 - ETA: 1s - loss: 1.0454 - acc: 0.501 - ETA: 1s - loss: 1.0379 - acc: 0.506 - ETA: 1s - loss: 1.0441 - acc: 0.507 - ETA: 1s - loss: 1.0348 - acc: 0.512 - ETA: 1s - loss: 1.0309 - acc: 0.515 - ETA: 0s - loss: 1.0308 - acc: 0.515 - ETA: 0s - loss: 1.0248 - acc: 0.518 - ETA: 0s - loss: 1.0198 - acc: 0.520 - ETA: 0s - loss: 1.0161 - acc: 0.522 - ETA: 0s - loss: 1.0141 - acc: 0.524 - ETA: 0s - loss: 1.0101 - acc: 0.527 - ETA: 0s - loss: 1.0038 - acc: 0.530 - ETA: 0s - loss: 0.9995 - acc: 0.533 - ETA: 0s - loss: 0.9955 - acc: 0.537 - ETA: 0s - loss: 0.9940 - acc: 0.538 - ETA: 0s - loss: 0.9872 - acc: 0.543 - ETA: 0s - loss: 0.9838 - acc: 0.545 - ETA: 0s - loss: 0.9774 - acc: 0.548 - ETA: 0s - loss: 0.9770 - acc: 0.549 - ETA: 0s - loss: 0.9739 - acc: 0.549 - ETA: 0s - loss: 0.9696 - acc: 0.551 - 2s 264us/step - loss: 0.9692 - acc: 0.5514 - val_loss: 0.7184 - val_acc: 0.6944\n",
      "Epoch 4/15\n",
      "9324/9324 [==============================] - ETA: 2s - loss: 1.0115 - acc: 0.540 - ETA: 2s - loss: 0.8620 - acc: 0.613 - ETA: 2s - loss: 0.8639 - acc: 0.623 - ETA: 1s - loss: 0.8572 - acc: 0.613 - ETA: 1s - loss: 0.8502 - acc: 0.611 - ETA: 1s - loss: 0.8660 - acc: 0.607 - ETA: 1s - loss: 0.8624 - acc: 0.602 - ETA: 1s - loss: 0.8605 - acc: 0.601 - ETA: 1s - loss: 0.8574 - acc: 0.604 - ETA: 1s - loss: 0.8545 - acc: 0.607 - ETA: 1s - loss: 0.8627 - acc: 0.604 - ETA: 1s - loss: 0.8597 - acc: 0.605 - ETA: 1s - loss: 0.8597 - acc: 0.603 - ETA: 1s - loss: 0.8545 - acc: 0.607 - ETA: 1s - loss: 0.8503 - acc: 0.609 - ETA: 1s - loss: 0.8474 - acc: 0.611 - ETA: 1s - loss: 0.8412 - acc: 0.616 - ETA: 0s - loss: 0.8392 - acc: 0.618 - ETA: 0s - loss: 0.8352 - acc: 0.620 - ETA: 0s - loss: 0.8284 - acc: 0.623 - ETA: 0s - loss: 0.8242 - acc: 0.624 - ETA: 0s - loss: 0.8208 - acc: 0.626 - ETA: 0s - loss: 0.8220 - acc: 0.627 - ETA: 0s - loss: 0.8182 - acc: 0.628 - ETA: 0s - loss: 0.8164 - acc: 0.630 - ETA: 0s - loss: 0.8136 - acc: 0.631 - ETA: 0s - loss: 0.8112 - acc: 0.632 - ETA: 0s - loss: 0.8066 - acc: 0.634 - ETA: 0s - loss: 0.8048 - acc: 0.636 - ETA: 0s - loss: 0.8028 - acc: 0.637 - ETA: 0s - loss: 0.7998 - acc: 0.638 - ETA: 0s - loss: 0.7982 - acc: 0.638 - 2s 265us/step - loss: 0.7960 - acc: 0.6392 - val_loss: 0.6361 - val_acc: 0.7418\n",
      "Epoch 5/15\n",
      "9324/9324 [==============================] - ETA: 2s - loss: 0.7619 - acc: 0.640 - ETA: 2s - loss: 0.7458 - acc: 0.647 - ETA: 1s - loss: 0.7787 - acc: 0.651 - ETA: 1s - loss: 0.7659 - acc: 0.656 - ETA: 1s - loss: 0.7573 - acc: 0.661 - ETA: 1s - loss: 0.7523 - acc: 0.671 - ETA: 1s - loss: 0.7467 - acc: 0.672 - ETA: 1s - loss: 0.7439 - acc: 0.668 - ETA: 1s - loss: 0.7320 - acc: 0.670 - ETA: 1s - loss: 0.7298 - acc: 0.671 - ETA: 1s - loss: 0.7272 - acc: 0.673 - ETA: 1s - loss: 0.7247 - acc: 0.674 - ETA: 1s - loss: 0.7202 - acc: 0.674 - ETA: 1s - loss: 0.7198 - acc: 0.674 - ETA: 1s - loss: 0.7207 - acc: 0.675 - ETA: 1s - loss: 0.7234 - acc: 0.676 - ETA: 1s - loss: 0.7242 - acc: 0.676 - ETA: 0s - loss: 0.7168 - acc: 0.680 - ETA: 0s - loss: 0.7183 - acc: 0.680 - ETA: 0s - loss: 0.7183 - acc: 0.681 - ETA: 0s - loss: 0.7163 - acc: 0.682 - ETA: 0s - loss: 0.7124 - acc: 0.684 - ETA: 0s - loss: 0.7083 - acc: 0.684 - ETA: 0s - loss: 0.7071 - acc: 0.686 - ETA: 0s - loss: 0.7081 - acc: 0.685 - ETA: 0s - loss: 0.7079 - acc: 0.686 - ETA: 0s - loss: 0.7066 - acc: 0.686 - ETA: 0s - loss: 0.7083 - acc: 0.687 - ETA: 0s - loss: 0.7073 - acc: 0.688 - ETA: 0s - loss: 0.7062 - acc: 0.689 - ETA: 0s - loss: 0.7039 - acc: 0.689 - ETA: 0s - loss: 0.6990 - acc: 0.692 - ETA: 0s - loss: 0.6961 - acc: 0.694 - 3s 269us/step - loss: 0.6949 - acc: 0.6950 - val_loss: 0.5056 - val_acc: 0.8157\n",
      "Epoch 6/15\n"
     ]
    },
    {
     "name": "stdout",
     "output_type": "stream",
     "text": [
      "9324/9324 [==============================] - ETA: 2s - loss: 0.9008 - acc: 0.660 - ETA: 2s - loss: 0.7159 - acc: 0.737 - ETA: 1s - loss: 0.7069 - acc: 0.724 - ETA: 1s - loss: 0.6870 - acc: 0.717 - ETA: 1s - loss: 0.6694 - acc: 0.719 - ETA: 1s - loss: 0.6666 - acc: 0.721 - ETA: 1s - loss: 0.6640 - acc: 0.722 - ETA: 1s - loss: 0.6541 - acc: 0.723 - ETA: 1s - loss: 0.6520 - acc: 0.728 - ETA: 1s - loss: 0.6406 - acc: 0.733 - ETA: 1s - loss: 0.6355 - acc: 0.736 - ETA: 1s - loss: 0.6336 - acc: 0.736 - ETA: 1s - loss: 0.6332 - acc: 0.736 - ETA: 1s - loss: 0.6317 - acc: 0.737 - ETA: 1s - loss: 0.6355 - acc: 0.740 - ETA: 1s - loss: 0.6284 - acc: 0.743 - ETA: 1s - loss: 0.6285 - acc: 0.743 - ETA: 0s - loss: 0.6258 - acc: 0.744 - ETA: 0s - loss: 0.6258 - acc: 0.742 - ETA: 0s - loss: 0.6306 - acc: 0.740 - ETA: 0s - loss: 0.6330 - acc: 0.739 - ETA: 0s - loss: 0.6329 - acc: 0.738 - ETA: 0s - loss: 0.6315 - acc: 0.738 - ETA: 0s - loss: 0.6309 - acc: 0.740 - ETA: 0s - loss: 0.6300 - acc: 0.740 - ETA: 0s - loss: 0.6287 - acc: 0.741 - ETA: 0s - loss: 0.6271 - acc: 0.742 - ETA: 0s - loss: 0.6260 - acc: 0.743 - ETA: 0s - loss: 0.6262 - acc: 0.743 - ETA: 0s - loss: 0.6251 - acc: 0.743 - ETA: 0s - loss: 0.6253 - acc: 0.744 - ETA: 0s - loss: 0.6281 - acc: 0.744 - ETA: 0s - loss: 0.6278 - acc: 0.744 - ETA: 0s - loss: 0.6291 - acc: 0.743 - 3s 274us/step - loss: 0.6270 - acc: 0.7445 - val_loss: 0.4539 - val_acc: 0.8454\n",
      "Epoch 7/15\n",
      "9324/9324 [==============================] - ETA: 2s - loss: 0.5990 - acc: 0.800 - ETA: 1s - loss: 0.5740 - acc: 0.792 - ETA: 1s - loss: 0.5262 - acc: 0.810 - ETA: 1s - loss: 0.5543 - acc: 0.791 - ETA: 1s - loss: 0.5559 - acc: 0.786 - ETA: 1s - loss: 0.5519 - acc: 0.782 - ETA: 1s - loss: 0.5513 - acc: 0.782 - ETA: 1s - loss: 0.5526 - acc: 0.785 - ETA: 1s - loss: 0.5447 - acc: 0.788 - ETA: 1s - loss: 0.5538 - acc: 0.783 - ETA: 1s - loss: 0.5485 - acc: 0.784 - ETA: 1s - loss: 0.5476 - acc: 0.783 - ETA: 1s - loss: 0.5502 - acc: 0.783 - ETA: 1s - loss: 0.5437 - acc: 0.784 - ETA: 1s - loss: 0.5410 - acc: 0.785 - ETA: 1s - loss: 0.5410 - acc: 0.787 - ETA: 0s - loss: 0.5372 - acc: 0.790 - ETA: 0s - loss: 0.5380 - acc: 0.790 - ETA: 0s - loss: 0.5383 - acc: 0.791 - ETA: 0s - loss: 0.5360 - acc: 0.792 - ETA: 0s - loss: 0.5330 - acc: 0.794 - ETA: 0s - loss: 0.5292 - acc: 0.796 - ETA: 0s - loss: 0.5303 - acc: 0.795 - ETA: 0s - loss: 0.5261 - acc: 0.798 - ETA: 0s - loss: 0.5274 - acc: 0.796 - ETA: 0s - loss: 0.5245 - acc: 0.797 - ETA: 0s - loss: 0.5228 - acc: 0.797 - ETA: 0s - loss: 0.5216 - acc: 0.798 - ETA: 0s - loss: 0.5217 - acc: 0.799 - ETA: 0s - loss: 0.5216 - acc: 0.799 - ETA: 0s - loss: 0.5238 - acc: 0.799 - ETA: 0s - loss: 0.5214 - acc: 0.800 - 2s 257us/step - loss: 0.5214 - acc: 0.8002 - val_loss: 0.3958 - val_acc: 0.8612\n",
      "Epoch 8/15\n",
      "9324/9324 [==============================] - ETA: 2s - loss: 0.4561 - acc: 0.810 - ETA: 1s - loss: 0.5382 - acc: 0.802 - ETA: 1s - loss: 0.5197 - acc: 0.802 - ETA: 1s - loss: 0.5240 - acc: 0.802 - ETA: 1s - loss: 0.5177 - acc: 0.801 - ETA: 1s - loss: 0.5138 - acc: 0.805 - ETA: 1s - loss: 0.5260 - acc: 0.796 - ETA: 1s - loss: 0.5082 - acc: 0.803 - ETA: 1s - loss: 0.5136 - acc: 0.804 - ETA: 1s - loss: 0.5114 - acc: 0.805 - ETA: 1s - loss: 0.5068 - acc: 0.805 - ETA: 1s - loss: 0.5088 - acc: 0.806 - ETA: 1s - loss: 0.5074 - acc: 0.808 - ETA: 1s - loss: 0.5044 - acc: 0.810 - ETA: 1s - loss: 0.5031 - acc: 0.811 - ETA: 1s - loss: 0.5019 - acc: 0.813 - ETA: 0s - loss: 0.5000 - acc: 0.815 - ETA: 0s - loss: 0.5002 - acc: 0.815 - ETA: 0s - loss: 0.4953 - acc: 0.815 - ETA: 0s - loss: 0.4955 - acc: 0.816 - ETA: 0s - loss: 0.4952 - acc: 0.816 - ETA: 0s - loss: 0.4949 - acc: 0.816 - ETA: 0s - loss: 0.4947 - acc: 0.818 - ETA: 0s - loss: 0.4950 - acc: 0.817 - ETA: 0s - loss: 0.4959 - acc: 0.818 - ETA: 0s - loss: 0.4940 - acc: 0.819 - ETA: 0s - loss: 0.4910 - acc: 0.820 - ETA: 0s - loss: 0.4911 - acc: 0.820 - ETA: 0s - loss: 0.4875 - acc: 0.821 - ETA: 0s - loss: 0.4845 - acc: 0.823 - ETA: 0s - loss: 0.4838 - acc: 0.824 - ETA: 0s - loss: 0.4842 - acc: 0.824 - 2s 260us/step - loss: 0.4836 - acc: 0.8244 - val_loss: 0.3376 - val_acc: 0.8758\n",
      "Epoch 9/15\n",
      "9324/9324 [==============================] - ETA: 2s - loss: 0.5698 - acc: 0.770 - ETA: 1s - loss: 0.5103 - acc: 0.812 - ETA: 1s - loss: 0.4699 - acc: 0.818 - ETA: 1s - loss: 0.4757 - acc: 0.819 - ETA: 1s - loss: 0.4752 - acc: 0.820 - ETA: 1s - loss: 0.4757 - acc: 0.819 - ETA: 1s - loss: 0.4670 - acc: 0.819 - ETA: 1s - loss: 0.4651 - acc: 0.819 - ETA: 1s - loss: 0.4769 - acc: 0.818 - ETA: 1s - loss: 0.4727 - acc: 0.819 - ETA: 1s - loss: 0.4747 - acc: 0.818 - ETA: 1s - loss: 0.4755 - acc: 0.816 - ETA: 1s - loss: 0.4722 - acc: 0.818 - ETA: 1s - loss: 0.4738 - acc: 0.818 - ETA: 1s - loss: 0.4669 - acc: 0.822 - ETA: 1s - loss: 0.4640 - acc: 0.824 - ETA: 0s - loss: 0.4597 - acc: 0.826 - ETA: 0s - loss: 0.4572 - acc: 0.828 - ETA: 0s - loss: 0.4526 - acc: 0.828 - ETA: 0s - loss: 0.4507 - acc: 0.829 - ETA: 0s - loss: 0.4499 - acc: 0.830 - ETA: 0s - loss: 0.4499 - acc: 0.831 - ETA: 0s - loss: 0.4500 - acc: 0.830 - ETA: 0s - loss: 0.4481 - acc: 0.832 - ETA: 0s - loss: 0.4485 - acc: 0.831 - ETA: 0s - loss: 0.4459 - acc: 0.832 - ETA: 0s - loss: 0.4452 - acc: 0.833 - ETA: 0s - loss: 0.4515 - acc: 0.832 - ETA: 0s - loss: 0.4530 - acc: 0.832 - ETA: 0s - loss: 0.4508 - acc: 0.833 - ETA: 0s - loss: 0.4533 - acc: 0.833 - ETA: 0s - loss: 0.4499 - acc: 0.834 - 2s 263us/step - loss: 0.4491 - acc: 0.8345 - val_loss: 0.3285 - val_acc: 0.8755\n",
      "Epoch 10/15\n",
      "9324/9324 [==============================] - ETA: 2s - loss: 0.4738 - acc: 0.820 - ETA: 1s - loss: 0.4327 - acc: 0.837 - ETA: 1s - loss: 0.4225 - acc: 0.845 - ETA: 1s - loss: 0.4278 - acc: 0.843 - ETA: 1s - loss: 0.4211 - acc: 0.844 - ETA: 1s - loss: 0.3980 - acc: 0.855 - ETA: 1s - loss: 0.4030 - acc: 0.852 - ETA: 1s - loss: 0.4086 - acc: 0.854 - ETA: 1s - loss: 0.3977 - acc: 0.856 - ETA: 1s - loss: 0.3972 - acc: 0.857 - ETA: 1s - loss: 0.3955 - acc: 0.858 - ETA: 1s - loss: 0.3961 - acc: 0.857 - ETA: 1s - loss: 0.3893 - acc: 0.859 - ETA: 1s - loss: 0.3879 - acc: 0.857 - ETA: 1s - loss: 0.3898 - acc: 0.856 - ETA: 1s - loss: 0.3931 - acc: 0.856 - ETA: 0s - loss: 0.3942 - acc: 0.857 - ETA: 0s - loss: 0.3917 - acc: 0.858 - ETA: 0s - loss: 0.3921 - acc: 0.858 - ETA: 0s - loss: 0.3932 - acc: 0.857 - ETA: 0s - loss: 0.3917 - acc: 0.857 - ETA: 0s - loss: 0.3909 - acc: 0.857 - ETA: 0s - loss: 0.3890 - acc: 0.857 - ETA: 0s - loss: 0.3875 - acc: 0.857 - ETA: 0s - loss: 0.3844 - acc: 0.857 - ETA: 0s - loss: 0.3862 - acc: 0.858 - ETA: 0s - loss: 0.3849 - acc: 0.859 - ETA: 0s - loss: 0.3853 - acc: 0.859 - ETA: 0s - loss: 0.3849 - acc: 0.860 - ETA: 0s - loss: 0.3851 - acc: 0.859 - ETA: 0s - loss: 0.3833 - acc: 0.860 - 2s 259us/step - loss: 0.3828 - acc: 0.8607 - val_loss: 0.2991 - val_acc: 0.8879\n",
      "Epoch 11/15\n",
      "9324/9324 [==============================] - ETA: 3s - loss: 0.4092 - acc: 0.840 - ETA: 2s - loss: 0.3914 - acc: 0.852 - ETA: 1s - loss: 0.3869 - acc: 0.861 - ETA: 1s - loss: 0.4053 - acc: 0.857 - ETA: 1s - loss: 0.4153 - acc: 0.851 - ETA: 1s - loss: 0.4067 - acc: 0.856 - ETA: 1s - loss: 0.3990 - acc: 0.858 - ETA: 1s - loss: 0.3936 - acc: 0.860 - ETA: 1s - loss: 0.3884 - acc: 0.860 - ETA: 1s - loss: 0.3891 - acc: 0.857 - ETA: 1s - loss: 0.3896 - acc: 0.859 - ETA: 1s - loss: 0.3867 - acc: 0.862 - ETA: 1s - loss: 0.3866 - acc: 0.863 - ETA: 1s - loss: 0.3878 - acc: 0.861 - ETA: 1s - loss: 0.3865 - acc: 0.862 - ETA: 1s - loss: 0.3870 - acc: 0.861 - ETA: 0s - loss: 0.3815 - acc: 0.863 - ETA: 0s - loss: 0.3839 - acc: 0.863 - ETA: 0s - loss: 0.3854 - acc: 0.862 - ETA: 0s - loss: 0.3858 - acc: 0.863 - ETA: 0s - loss: 0.3840 - acc: 0.864 - ETA: 0s - loss: 0.3831 - acc: 0.865 - ETA: 0s - loss: 0.3797 - acc: 0.865 - ETA: 0s - loss: 0.3792 - acc: 0.865 - ETA: 0s - loss: 0.3752 - acc: 0.867 - ETA: 0s - loss: 0.3788 - acc: 0.866 - ETA: 0s - loss: 0.3782 - acc: 0.866 - ETA: 0s - loss: 0.3819 - acc: 0.865 - ETA: 0s - loss: 0.3840 - acc: 0.865 - ETA: 0s - loss: 0.3824 - acc: 0.865 - ETA: 0s - loss: 0.3844 - acc: 0.864 - ETA: 0s - loss: 0.3850 - acc: 0.863 - 2s 263us/step - loss: 0.3845 - acc: 0.8635 - val_loss: 0.2895 - val_acc: 0.8974\n",
      "Epoch 12/15\n"
     ]
    },
    {
     "name": "stdout",
     "output_type": "stream",
     "text": [
      "9324/9324 [==============================] - ETA: 2s - loss: 0.3484 - acc: 0.880 - ETA: 1s - loss: 0.3896 - acc: 0.867 - ETA: 1s - loss: 0.3547 - acc: 0.875 - ETA: 1s - loss: 0.3866 - acc: 0.857 - ETA: 1s - loss: 0.3824 - acc: 0.857 - ETA: 1s - loss: 0.3721 - acc: 0.860 - ETA: 1s - loss: 0.3706 - acc: 0.861 - ETA: 1s - loss: 0.3725 - acc: 0.860 - ETA: 1s - loss: 0.3644 - acc: 0.865 - ETA: 1s - loss: 0.3674 - acc: 0.865 - ETA: 1s - loss: 0.3696 - acc: 0.865 - ETA: 1s - loss: 0.3681 - acc: 0.865 - ETA: 1s - loss: 0.3635 - acc: 0.867 - ETA: 1s - loss: 0.3667 - acc: 0.868 - ETA: 1s - loss: 0.3636 - acc: 0.870 - ETA: 1s - loss: 0.3638 - acc: 0.869 - ETA: 0s - loss: 0.3598 - acc: 0.871 - ETA: 0s - loss: 0.3605 - acc: 0.869 - ETA: 0s - loss: 0.3602 - acc: 0.869 - ETA: 0s - loss: 0.3607 - acc: 0.868 - ETA: 0s - loss: 0.3634 - acc: 0.868 - ETA: 0s - loss: 0.3628 - acc: 0.869 - ETA: 0s - loss: 0.3648 - acc: 0.867 - ETA: 0s - loss: 0.3664 - acc: 0.867 - ETA: 0s - loss: 0.3638 - acc: 0.867 - ETA: 0s - loss: 0.3615 - acc: 0.868 - ETA: 0s - loss: 0.3582 - acc: 0.869 - ETA: 0s - loss: 0.3576 - acc: 0.869 - ETA: 0s - loss: 0.3565 - acc: 0.870 - ETA: 0s - loss: 0.3568 - acc: 0.870 - ETA: 0s - loss: 0.3574 - acc: 0.871 - 2s 255us/step - loss: 0.3571 - acc: 0.8719 - val_loss: 0.2724 - val_acc: 0.9009\n",
      "Epoch 13/15\n",
      "9324/9324 [==============================] - ETA: 2s - loss: 0.3899 - acc: 0.890 - ETA: 1s - loss: 0.2682 - acc: 0.912 - ETA: 2s - loss: 0.2700 - acc: 0.905 - ETA: 1s - loss: 0.2818 - acc: 0.895 - ETA: 1s - loss: 0.2870 - acc: 0.894 - ETA: 1s - loss: 0.3008 - acc: 0.890 - ETA: 1s - loss: 0.2939 - acc: 0.892 - ETA: 1s - loss: 0.2969 - acc: 0.889 - ETA: 1s - loss: 0.2975 - acc: 0.890 - ETA: 1s - loss: 0.3021 - acc: 0.888 - ETA: 1s - loss: 0.2995 - acc: 0.890 - ETA: 1s - loss: 0.3124 - acc: 0.886 - ETA: 1s - loss: 0.3152 - acc: 0.885 - ETA: 1s - loss: 0.3205 - acc: 0.885 - ETA: 1s - loss: 0.3221 - acc: 0.885 - ETA: 1s - loss: 0.3284 - acc: 0.883 - ETA: 0s - loss: 0.3298 - acc: 0.883 - ETA: 0s - loss: 0.3267 - acc: 0.884 - ETA: 0s - loss: 0.3241 - acc: 0.885 - ETA: 0s - loss: 0.3253 - acc: 0.886 - ETA: 0s - loss: 0.3267 - acc: 0.885 - ETA: 0s - loss: 0.3290 - acc: 0.885 - ETA: 0s - loss: 0.3257 - acc: 0.886 - ETA: 0s - loss: 0.3277 - acc: 0.885 - ETA: 0s - loss: 0.3288 - acc: 0.884 - ETA: 0s - loss: 0.3304 - acc: 0.884 - ETA: 0s - loss: 0.3296 - acc: 0.884 - ETA: 0s - loss: 0.3301 - acc: 0.883 - ETA: 0s - loss: 0.3339 - acc: 0.883 - ETA: 0s - loss: 0.3359 - acc: 0.882 - ETA: 0s - loss: 0.3422 - acc: 0.879 - ETA: 0s - loss: 0.3419 - acc: 0.880 - 2s 260us/step - loss: 0.3415 - acc: 0.8804 - val_loss: 0.2652 - val_acc: 0.9037\n",
      "Epoch 14/15\n",
      "9324/9324 [==============================] - ETA: 2s - loss: 0.2820 - acc: 0.890 - ETA: 1s - loss: 0.3287 - acc: 0.865 - ETA: 1s - loss: 0.3270 - acc: 0.867 - ETA: 1s - loss: 0.3621 - acc: 0.862 - ETA: 1s - loss: 0.3485 - acc: 0.867 - ETA: 1s - loss: 0.3382 - acc: 0.873 - ETA: 1s - loss: 0.3512 - acc: 0.867 - ETA: 1s - loss: 0.3593 - acc: 0.863 - ETA: 1s - loss: 0.3582 - acc: 0.866 - ETA: 1s - loss: 0.3495 - acc: 0.869 - ETA: 1s - loss: 0.3487 - acc: 0.871 - ETA: 1s - loss: 0.3436 - acc: 0.873 - ETA: 1s - loss: 0.3519 - acc: 0.871 - ETA: 1s - loss: 0.3510 - acc: 0.873 - ETA: 1s - loss: 0.3500 - acc: 0.872 - ETA: 1s - loss: 0.3481 - acc: 0.871 - ETA: 1s - loss: 0.3461 - acc: 0.872 - ETA: 0s - loss: 0.3408 - acc: 0.875 - ETA: 0s - loss: 0.3406 - acc: 0.875 - ETA: 0s - loss: 0.3411 - acc: 0.876 - ETA: 0s - loss: 0.3380 - acc: 0.878 - ETA: 0s - loss: 0.3353 - acc: 0.880 - ETA: 0s - loss: 0.3350 - acc: 0.880 - ETA: 0s - loss: 0.3352 - acc: 0.879 - ETA: 0s - loss: 0.3332 - acc: 0.880 - ETA: 0s - loss: 0.3289 - acc: 0.882 - ETA: 0s - loss: 0.3276 - acc: 0.882 - ETA: 0s - loss: 0.3259 - acc: 0.883 - ETA: 0s - loss: 0.3243 - acc: 0.884 - ETA: 0s - loss: 0.3250 - acc: 0.883 - ETA: 0s - loss: 0.3239 - acc: 0.884 - ETA: 0s - loss: 0.3226 - acc: 0.885 - 2s 261us/step - loss: 0.3234 - acc: 0.8850 - val_loss: 0.2530 - val_acc: 0.9022\n",
      "Epoch 15/15\n",
      "9324/9324 [==============================] - ETA: 2s - loss: 0.3201 - acc: 0.870 - ETA: 2s - loss: 0.2584 - acc: 0.907 - ETA: 2s - loss: 0.2825 - acc: 0.913 - ETA: 1s - loss: 0.2873 - acc: 0.911 - ETA: 1s - loss: 0.2737 - acc: 0.912 - ETA: 1s - loss: 0.2773 - acc: 0.908 - ETA: 1s - loss: 0.3009 - acc: 0.901 - ETA: 1s - loss: 0.3090 - acc: 0.895 - ETA: 1s - loss: 0.3173 - acc: 0.892 - ETA: 1s - loss: 0.3159 - acc: 0.890 - ETA: 1s - loss: 0.3115 - acc: 0.893 - ETA: 1s - loss: 0.3130 - acc: 0.893 - ETA: 1s - loss: 0.3132 - acc: 0.891 - ETA: 1s - loss: 0.3067 - acc: 0.893 - ETA: 1s - loss: 0.3030 - acc: 0.895 - ETA: 1s - loss: 0.3030 - acc: 0.894 - ETA: 0s - loss: 0.3046 - acc: 0.893 - ETA: 0s - loss: 0.3050 - acc: 0.893 - ETA: 0s - loss: 0.3061 - acc: 0.893 - ETA: 0s - loss: 0.3041 - acc: 0.893 - ETA: 0s - loss: 0.3039 - acc: 0.893 - ETA: 0s - loss: 0.3055 - acc: 0.892 - ETA: 0s - loss: 0.3046 - acc: 0.892 - ETA: 0s - loss: 0.3024 - acc: 0.892 - ETA: 0s - loss: 0.3043 - acc: 0.892 - ETA: 0s - loss: 0.3050 - acc: 0.892 - ETA: 0s - loss: 0.3037 - acc: 0.893 - ETA: 0s - loss: 0.3043 - acc: 0.892 - ETA: 0s - loss: 0.3062 - acc: 0.892 - ETA: 0s - loss: 0.3064 - acc: 0.893 - ETA: 0s - loss: 0.3085 - acc: 0.892 - ETA: 0s - loss: 0.3094 - acc: 0.892 - 2s 261us/step - loss: 0.3100 - acc: 0.8920 - val_loss: 0.2541 - val_acc: 0.9057\n"
     ]
    }
   ],
   "source": [
    "#build and train record\n",
    "history = model.fit(X_train, y_train_hot, \n",
    "                    batch_size=batch_size, \n",
    "                    epochs=epochs, \n",
    "                    verbose=1, \n",
    "                    validation_data=(X_test, y_test_hot),\n",
    "                    callbacks=[tbRecord])"
   ]
  },
  {
   "cell_type": "code",
   "execution_count": 14,
   "metadata": {},
   "outputs": [
    {
     "name": "stdout",
     "output_type": "stream",
     "text": [
      "Populating the interactive namespace from numpy and matplotlib\n"
     ]
    },
    {
     "data": {
      "image/png": "[encoded data removed]",
      "text/plain": [
       "<Figure size 432x288 with 1 Axes>"
      ]
     },
     "metadata": {},
     "output_type": "display_data"
    },
    {
     "data": {
      "image/png": "[encoded data removed]",
      "text/plain": [
       "<Figure size 432x288 with 1 Axes>"
      ]
     },
     "metadata": {},
     "output_type": "display_data"
    }
   ],
   "source": [
    "%pylab inline\n",
    "import matplotlib.pyplot as plt\n",
    "\n",
    "h_xdim = np.arange(1, epochs+1)\n",
    "# plot train & test accuracy\n",
    "plt.plot(h_xdim, history.history['acc'])\n",
    "plt.plot(h_xdim, history.history['val_acc'])\n",
    "plt.title('Model accuracy')\n",
    "plt.xticks(h_xdim)\n",
    "plt.grid(True, axis='x', linestyle='-.')\n",
    "#plt.xlim(1, epochs+1)\n",
    "plt.ylabel('Accuracy')\n",
    "plt.xlabel('Epoch')\n",
    "plt.legend(['Train', 'Test'], loc='upper left')\n",
    "\n",
    "plt.savefig('ACC.png')\n",
    "plt.show()\n",
    "\n",
    "# plot train & test loss\n",
    "plt.plot(h_xdim, history.history['loss'])\n",
    "plt.plot(h_xdim, history.history['val_loss'])\n",
    "plt.title('Model loss')\n",
    "plt.xticks(h_xdim)\n",
    "plt.grid(True, axis='x', linestyle='-.')\n",
    "#plt.xlim(0, epochs+1)\n",
    "plt.ylabel('Loss')\n",
    "plt.xlabel('Epoch')\n",
    "plt.legend(['Train', 'Test'], loc='upper right')\n",
    "\n",
    "plt.savefig('LOSS.png')\n",
    "plt.show()"
   ]
  },
  {
   "cell_type": "code",
   "execution_count": 15,
   "metadata": {},
   "outputs": [
    {
     "name": "stdout",
     "output_type": "stream",
     "text": [
      "_________________________________________________________________\n",
      "Layer (type)                 Output Shape              Param #   \n",
      "=================================================================\n",
      "conv2d_1 (Conv2D)            (None, 20, 11, 16)        160       \n",
      "_________________________________________________________________\n",
      "max_pooling2d_1 (MaxPooling2 (None, 10, 5, 16)         0         \n",
      "_________________________________________________________________\n",
      "conv2d_2 (Conv2D)            (None, 10, 5, 96)         13920     \n",
      "_________________________________________________________________\n",
      "max_pooling2d_2 (MaxPooling2 (None, 5, 2, 96)          0         \n",
      "_________________________________________________________________\n",
      "dropout_1 (Dropout)          (None, 5, 2, 96)          0         \n",
      "_________________________________________________________________\n",
      "flatten_1 (Flatten)          (None, 960)               0         \n",
      "_________________________________________________________________\n",
      "dense_1 (Dense)              (None, 128)               123008    \n",
      "_________________________________________________________________\n",
      "dropout_2 (Dropout)          (None, 128)               0         \n",
      "_________________________________________________________________\n",
      "dense_2 (Dense)              (None, 64)                8256      \n",
      "_________________________________________________________________\n",
      "dropout_3 (Dropout)          (None, 64)                0         \n",
      "_________________________________________________________________\n",
      "dense_3 (Dense)              (None, 32)                2080      \n",
      "_________________________________________________________________\n",
      "dropout_4 (Dropout)          (None, 32)                0         \n",
      "_________________________________________________________________\n",
      "dense_4 (Dense)              (None, 4)                 132       \n",
      "=================================================================\n",
      "Total params: 147,556\n",
      "Trainable params: 147,556\n",
      "Non-trainable params: 0\n",
      "_________________________________________________________________\n"
     ]
    }
   ],
   "source": [
    "model.summary()"
   ]
  },
  {
   "cell_type": "code",
   "execution_count": 16,
   "metadata": {},
   "outputs": [],
   "source": [
    "# Predicts one sample\n",
    "def predict(filepath, model):\n",
    "    sample = wav2mfcc(filepath)\n",
    "    sample_reshaped = sample.reshape(1, feature_dim_1, feature_dim_2, channel)\n",
    "    \n",
    "    #return get_labels()\n",
    "    return get_labels()[0][model.predict_classes(sample_reshaped)[0]]\n",
    "    #return get_labels()[0][np.argmax(model.predict(sample_reshaped))] #same as up line\n",
    "    #return model.predict(sample_reshaped)"
   ]
  },
  {
   "cell_type": "code",
   "execution_count": 17,
   "metadata": {
    "scrolled": true
   },
   "outputs": [
    {
     "data": {
      "text/plain": [
       "'two'"
      ]
     },
     "execution_count": 17,
     "metadata": {},
     "output_type": "execute_result"
    }
   ],
   "source": [
    "#'./testSample/three_00b01445_nohash_0.wav' zero_0a2b400e_nohash_0 one_00f0204f_nohash_0 two_00b01445_nohash_0\n",
    "#'./testSample/Two01.wav' Two02.wav\n",
    "\n",
    "predict('./testSample/Two01.wav', model)"
   ]
  },
  {
   "cell_type": "code",
   "execution_count": 18,
   "metadata": {},
   "outputs": [
    {
     "data": {
      "text/plain": [
       "(['one', 'three', 'two', 'zero'], array([0, 1, 2, 3]), array([[1., 0., 0., 0.],\n",
       "        [0., 1., 0., 0.],\n",
       "        [0., 0., 1., 0.],\n",
       "        [0., 0., 0., 1.]], dtype=float32))"
      ]
     },
     "execution_count": 18,
     "metadata": {},
     "output_type": "execute_result"
    }
   ],
   "source": [
    "get_labels()"
   ]
  },
  {
   "cell_type": "code",
   "execution_count": 19,
   "metadata": {},
   "outputs": [
    {
     "name": "stdout",
     "output_type": "stream",
     "text": [
      "6217/6217 [==============================] - ETA:  - ETA:  - ETA:  - ETA:  - ETA:  - ETA:  - ETA:  - ETA:  - ETA:  - ETA:  - 0s 79us/step\n"
     ]
    }
   ],
   "source": [
    "scores = model.evaluate(X_test, y_test_hot)"
   ]
  },
  {
   "cell_type": "code",
   "execution_count": 20,
   "metadata": {},
   "outputs": [
    {
     "name": "stdout",
     "output_type": "stream",
     "text": [
      "validation_data-Accuracy:\t 0.9057423194466785\n",
      "validation_data-Loss:\t 0.2540683141674799\n"
     ]
    }
   ],
   "source": [
    "#scores\n",
    "print('validation_data-Accuracy:\\t', scores[1])\n",
    "print('validation_data-Loss:\\t', scores[0])\n",
    "#model.metrics_names"
   ]
  },
  {
   "cell_type": "code",
   "execution_count": 21,
   "metadata": {},
   "outputs": [
    {
     "data": {
      "text/plain": [
       "array([1, 3, 2, ..., 3, 2, 3], dtype=int64)"
      ]
     },
     "execution_count": 21,
     "metadata": {},
     "output_type": "execute_result"
    }
   ],
   "source": [
    "distinguish = model.predict_classes(X_test)\n",
    "distinguish[:]"
   ]
  },
  {
   "cell_type": "markdown",
   "metadata": {},
   "source": [
    "---"
   ]
  },
  {
   "cell_type": "code",
   "execution_count": null,
   "metadata": {},
   "outputs": [],
   "source": []
  }
 ],
 "metadata": {
  "kernelspec": {
   "display_name": "Python 3",
   "language": "python",
   "name": "python3"
  },
  "language_info": {
   "codemirror_mode": {
    "name": "ipython",
    "version": 3
   },
   "file_extension": ".py",
   "mimetype": "text/x-python",
   "name": "python",
   "nbconvert_exporter": "python",
   "pygments_lexer": "ipython3",
   "version": "3.6.5"
  }
 },
 "nbformat": 4,
 "nbformat_minor": 2
}
